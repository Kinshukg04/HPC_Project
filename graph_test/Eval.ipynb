{
 "cells": [
  {
   "cell_type": "code",
   "execution_count": 5,
   "metadata": {},
   "outputs": [],
   "source": [
    "import socket\n",
    "import random\n",
    "import multiprocessing\n",
    "from multiprocessing import Pool\n",
    "import time\n",
    "from monte_carlo import monte_carlo_pi_part\n",
    "import matplotlib.pyplot as plt\n",
    "import numpy as np"
   ]
  },
  {
   "cell_type": "code",
   "execution_count": 11,
   "metadata": {},
   "outputs": [],
   "source": [
    "# def monte_carlo_pi_part(n):\n",
    "    \n",
    "#     count = 0\n",
    "#     for i in range(n):\n",
    "#         x=random.random()\n",
    "#         y=random.random()\n",
    "        \n",
    "#         # if it is within the unit circle\n",
    "#         if x*x + y*y <= 1:\n",
    "#             count=count+1\n",
    "#             x.append(rand_x)\n",
    "#             y.append(rand_y)\n",
    "#         else:\n",
    "#             x1.append(rand_x)\n",
    "#             y1.append(rand_y)\n",
    "        \n",
    "#     plt.scatter(x, y,color='r')\n",
    "#     plt.scatter(x1, y1,color='b')\n",
    "#     #plt.show()\n",
    "#     name = './graph'+str(random.random())+'.png'\n",
    "#     plt.savefig(name)\n",
    "#     #return\n",
    "#     return count\n",
    "\n",
    "# \n",
    "# if __name__=='__main__':\n",
    "    \n",
    "#     np = multiprocessing.cpu_count()\n",
    "#     print ('You have {0:1d} CPUs'.format(np))\n",
    "\n",
    "#     # Nummber of points to use for the Pi estimation\n",
    "#     n = 10000000\n",
    "    \n",
    "#     # iterable with a list of points to generate in each worker\n",
    "#     # each worker process gets n/np number of points to calculate Pi from\n",
    "#     st = time.time()\n",
    "#     part_count=[int(n/np) for i in range(np)]\n",
    "#     #print((part_count))\n",
    "#     #Create the worker pool\n",
    "#     pool = Pool(processes=np)   \n",
    "\n",
    "#     # parallel map\n",
    "#     count=pool.map(monte_carlo_pi_part, part_count)\n",
    "#     print(time.time()-st)\n",
    "#     print (\"Esitmated value of Pi: \", sum(count)/(n*1.0)*4)    "
   ]
  },
  {
   "cell_type": "code",
   "execution_count": 6,
   "metadata": {},
   "outputs": [
    {
     "name": "stdout",
     "output_type": "stream",
     "text": [
      "You have 12 CPUs\n",
      "38.73744463920593\n",
      "Esitmated value of Pi:  3.1420424\n"
     ]
    }
   ],
   "source": [
    "np = multiprocessing.cpu_count()\n",
    "print ('You have {0:1d} CPUs'.format(np))\n",
    "\n",
    "# Nummber of points to use for the Pi estimation\n",
    "n = 10000000\n",
    "\n",
    "# iterable with a list of points to generate in each worker\n",
    "# each worker process gets n/np number of points to calculate Pi from\n",
    "st = time.time()\n",
    "part_count=[int(n/np) for i in range(np)]\n",
    "#print((part_count))\n",
    "#Create the worker pool\n",
    "pool = Pool(processes=np)   \n",
    "\n",
    "# parallel map\n",
    "count=pool.map(monte_carlo_pi_part, part_count)\n",
    "print(time.time()-st)\n",
    "print (\"Esitmated value of Pi: \", sum(count)/(n*1.0)*4)    "
   ]
  },
  {
   "cell_type": "code",
   "execution_count": 2,
   "metadata": {},
   "outputs": [
    {
     "name": "stdout",
     "output_type": "stream",
     "text": [
      "19.666681051254272\n",
      "Final Estimation of Pi= 3.14113\n"
     ]
    }
   ],
   "source": [
    "INTERVAL= 10000000\n",
    "  \n",
    "circle_points= 0\n",
    "square_points= 0\n",
    "  \n",
    "# Total Random numbers generated= possible x\n",
    "# values* possible y values\n",
    "st = time.time()\n",
    "for i in range(INTERVAL):\n",
    "  \n",
    "    # Randomly generated x and y values from a\n",
    "    # uniform distribution\n",
    "    # Rannge of x and y values is -1 to 1\n",
    "    rand_x= random.uniform(-1, 1)\n",
    "    rand_y= random.uniform(-1, 1)\n",
    "  \n",
    "    # Distance between (x, y) from the origin\n",
    "    origin_dist= rand_x**2 + rand_y**2\n",
    "  \n",
    "    # Checking if (x, y) lies inside the circle\n",
    "    if origin_dist<= 1:\n",
    "        circle_points+= 1\n",
    "  \n",
    "\n",
    "  \n",
    "    # Estimating value of pi,\n",
    "    # pi= 4*(no. of points generated inside the \n",
    "    # circle)/ (no. of points generated inside the square)\n",
    "pi = 4* circle_points/ INTERVAL\n",
    "  \n",
    "##    print(\"\\n\")\n",
    "print(time.time()-st)\n",
    "print(\"Final Estimation of Pi=\", pi)    "
   ]
  },
  {
   "cell_type": "code",
   "execution_count": null,
   "metadata": {},
   "outputs": [],
   "source": [
    "if __name__=='__main__':\n",
    "    \n",
    "    np = multiprocessing.cpu_count()\n",
    "    print ('You have {0:1d} CPUs'.format(np))\n",
    "\n",
    "    # Nummber of points to use for the Pi estimation\n",
    "    n = 10000000\n",
    "    \n",
    "    # iterable with a list of points to generate in each worker\n",
    "    # each worker process gets n/np number of points to calculate Pi from\n",
    "    st = time.time()\n",
    "    part_count=[int(n/np) for i in range(np)]\n",
    "    #print((part_count))\n",
    "    #Create the worker pool\n",
    "    pool = Pool(processes=np)   \n",
    "\n",
    "    # parallel map\n",
    "    count=pool.map(monte_carlo_pi_part, part_count)\n",
    "    tcpsocket = socket.socket(socket.AF_INET, socket.SOCK_STREAM)\n",
    "    print (\"Socket successfully created\")\n",
    "    tcpsocket.bind(('', port))\n",
    "    #tcpsocket.bind( (\"0.0.0.0\", 8000) ) \n",
    "    tcpsocket.listen(2)\n",
    "    (client, (ip,port) ) = tcpsocket.accept()\n",
    "    tcpsocket.send(bytes(str(sum(count)), 'utf8'))"
   ]
  }
 ],
 "metadata": {
  "kernelspec": {
   "display_name": "Python 3",
   "language": "python",
   "name": "python3"
  },
  "language_info": {
   "codemirror_mode": {
    "name": "ipython",
    "version": 3
   },
   "file_extension": ".py",
   "mimetype": "text/x-python",
   "name": "python",
   "nbconvert_exporter": "python",
   "pygments_lexer": "ipython3",
   "version": "3.6.8"
  },
  "metadata": {
   "interpreter": {
    "hash": "b71f7bef57cc3b2b48f37c5731d4b574dcfc4172c2d15e9d11ea3b94ba842abe"
   }
  }
 },
 "nbformat": 4,
 "nbformat_minor": 2
}
